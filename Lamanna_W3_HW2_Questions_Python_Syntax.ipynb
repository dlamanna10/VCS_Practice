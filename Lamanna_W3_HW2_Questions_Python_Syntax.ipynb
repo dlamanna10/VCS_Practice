{
  "cells": [
    {
      "cell_type": "markdown",
      "id": "64b779d8",
      "metadata": {
        "id": "64b779d8"
      },
      "source": [
        "## **Homework 2: Basic Markdown, Python Variables, Math Operations, User Input, and PEMDAS**\n",
        "\n",
        "This homework is designed to enhance your understanding of several fundamental concepts in Python and Jupyter Notebooks, including Markdown formatting, variable assignment, basic mathematics operations, handling user input, and the order of operations (PEMDAS).\n",
        "\n",
        "**Instructions:**\n",
        "- Answer each question in the notebook, using a Markdown cell for explanations and a code cell for Python code.\n",
        "- Ensure to execute your Python code to display the answers where applicable.\n"
      ]
    },
    {
      "cell_type": "markdown",
      "id": "ec00d08e",
      "metadata": {
        "id": "ec00d08e"
      },
      "source": [
        "1. Show what Markdown is used for in Jupyter Notebooks."
      ]
    },
    {
      "cell_type": "markdown",
      "source": [
        "Markdown is used to format documentation and organize your code.\n",
        "\n",
        "# Title\n",
        "## Heading\n",
        "### Subheading\n",
        "#### 4th level subheading\n",
        "\n",
        "This is **bold**.\n",
        "This is _itallicized_."
      ],
      "metadata": {
        "id": "T2nGAO9h-Rk4"
      },
      "id": "T2nGAO9h-Rk4"
    },
    {
      "cell_type": "markdown",
      "id": "9f44594b",
      "metadata": {
        "id": "9f44594b"
      },
      "source": [
        "2. Show how to format text to be bold in Markdown? Provide an example."
      ]
    },
    {
      "cell_type": "markdown",
      "source": [
        "You make something bold by placing two * around the content.\n",
        "This is **bold**."
      ],
      "metadata": {
        "id": "1VAzEOzd-1w_"
      },
      "id": "1VAzEOzd-1w_"
    },
    {
      "cell_type": "markdown",
      "id": "d3729096",
      "metadata": {
        "id": "d3729096"
      },
      "source": [
        "3. Create a Python variable named `a` and assign it the value 5."
      ]
    },
    {
      "cell_type": "code",
      "execution_count": null,
      "id": "59ee5aa4",
      "metadata": {
        "id": "59ee5aa4",
        "colab": {
          "base_uri": "https://localhost:8080/"
        },
        "outputId": "373f1143-3102-4b14-808d-89eef2bf0877"
      },
      "outputs": [
        {
          "output_type": "stream",
          "name": "stdout",
          "text": [
            "5\n"
          ]
        }
      ],
      "source": [
        "a = 5\n",
        "print(a)"
      ]
    },
    {
      "cell_type": "markdown",
      "id": "4ea5fd99",
      "metadata": {
        "id": "4ea5fd99"
      },
      "source": [
        "4. Perform an addition operation with any two numbers and display the result."
      ]
    },
    {
      "cell_type": "code",
      "execution_count": null,
      "id": "8b419b80",
      "metadata": {
        "id": "8b419b80",
        "colab": {
          "base_uri": "https://localhost:8080/"
        },
        "outputId": "2b73ed5b-ff82-4122-a275-4878287cbbea"
      },
      "outputs": [
        {
          "output_type": "stream",
          "name": "stdout",
          "text": [
            "7\n"
          ]
        }
      ],
      "source": [
        "sum = 2 + 5\n",
        "print(sum)"
      ]
    },
    {
      "cell_type": "markdown",
      "id": "809fea36",
      "metadata": {
        "id": "809fea36"
      },
      "source": [
        "5. Divide 15 by 3 and show the result."
      ]
    },
    {
      "cell_type": "code",
      "execution_count": null,
      "id": "be300337",
      "metadata": {
        "id": "be300337",
        "colab": {
          "base_uri": "https://localhost:8080/"
        },
        "outputId": "06c05e10-44a6-4e0e-9f90-80bf80a25c45"
      },
      "outputs": [
        {
          "output_type": "stream",
          "name": "stdout",
          "text": [
            "5.0\n"
          ]
        }
      ],
      "source": [
        "div = 15 / 3\n",
        "print(div)"
      ]
    },
    {
      "cell_type": "markdown",
      "id": "7b0f891c",
      "metadata": {
        "id": "7b0f891c"
      },
      "source": [
        "6. Use the `input()` function to ask the user for their name and then greet them."
      ]
    },
    {
      "cell_type": "code",
      "execution_count": null,
      "id": "ab2198cc",
      "metadata": {
        "id": "ab2198cc",
        "colab": {
          "base_uri": "https://localhost:8080/"
        },
        "outputId": "cefe955d-ba01-4edd-906c-7f63f1473560"
      },
      "outputs": [
        {
          "output_type": "stream",
          "name": "stdout",
          "text": [
            "What is your name? Dominic\n",
            "It's nice to meet you Dominic!\n"
          ]
        }
      ],
      "source": [
        "name = input(\"What is your name? \")\n",
        "print(\"It's nice to meet you \" + name + \"!\")"
      ]
    },
    {
      "cell_type": "markdown",
      "id": "181413d2",
      "metadata": {
        "id": "181413d2"
      },
      "source": [
        "7. Calculate the square of 7 and display the result."
      ]
    },
    {
      "cell_type": "code",
      "execution_count": null,
      "id": "18b86315",
      "metadata": {
        "id": "18b86315",
        "colab": {
          "base_uri": "https://localhost:8080/"
        },
        "outputId": "3ab77460-717b-4d74-912a-8f577260e641"
      },
      "outputs": [
        {
          "output_type": "stream",
          "name": "stdout",
          "text": [
            "49\n"
          ]
        }
      ],
      "source": [
        "square = 7**2\n",
        "print(square)"
      ]
    },
    {
      "cell_type": "markdown",
      "id": "7a0f4c79",
      "metadata": {
        "id": "7a0f4c79"
      },
      "source": [
        "8. Ask the user for a number, multiply it by 2, and display the result."
      ]
    },
    {
      "cell_type": "code",
      "execution_count": null,
      "id": "206d8834",
      "metadata": {
        "id": "206d8834",
        "colab": {
          "base_uri": "https://localhost:8080/"
        },
        "outputId": "60f4e269-d43c-447b-8db8-d0443c437078"
      },
      "outputs": [
        {
          "output_type": "stream",
          "name": "stdout",
          "text": [
            "Enter a number: 2\n",
            "4\n"
          ]
        }
      ],
      "source": [
        "user_num = int(input(\"Enter a number: \"))\n",
        "multi = user_num * 2\n",
        "print(multi)"
      ]
    },
    {
      "cell_type": "markdown",
      "id": "ea0dd3a5",
      "metadata": {
        "id": "ea0dd3a5"
      },
      "source": [
        "9. Write a program that converts time from hours to seconds. Ask the user to input the time in hours, and then convert that time into seconds. Remember, 1 hour equals 3600 seconds."
      ]
    },
    {
      "cell_type": "code",
      "source": [
        "hours = int(input(\"Enter a time in hours: \"))\n",
        "seconds = hours * 3600\n",
        "print(seconds)"
      ],
      "metadata": {
        "id": "K5F9Y3ZPzMlD",
        "colab": {
          "base_uri": "https://localhost:8080/"
        },
        "outputId": "ec3dff07-32b4-43b1-b9ee-19e1ea7da526"
      },
      "id": "K5F9Y3ZPzMlD",
      "execution_count": null,
      "outputs": [
        {
          "output_type": "stream",
          "name": "stdout",
          "text": [
            "Enter a time in hours: 1\n",
            "3600\n"
          ]
        }
      ]
    },
    {
      "cell_type": "markdown",
      "id": "33988976",
      "metadata": {
        "id": "33988976"
      },
      "source": [
        "10. Evaluate the expression `3 * (4 + 5) - 6 / 2` and display the result."
      ]
    },
    {
      "cell_type": "code",
      "execution_count": null,
      "id": "e346f170",
      "metadata": {
        "id": "e346f170",
        "colab": {
          "base_uri": "https://localhost:8080/"
        },
        "outputId": "5cdf4825-8ed3-435b-8a35-fe036cff163d"
      },
      "outputs": [
        {
          "output_type": "stream",
          "name": "stdout",
          "text": [
            "10.5\n"
          ]
        }
      ],
      "source": [
        "equation = (3 * (4 + 5) - 6) / 2\n",
        "print(equation)"
      ]
    },
    {
      "cell_type": "markdown",
      "id": "238b253e",
      "metadata": {
        "id": "238b253e"
      },
      "source": [
        "11. Assign the string 'Python' to a variable and print it."
      ]
    },
    {
      "cell_type": "code",
      "execution_count": null,
      "id": "c390538f",
      "metadata": {
        "id": "c390538f",
        "colab": {
          "base_uri": "https://localhost:8080/"
        },
        "outputId": "0c00eff7-fbdd-4374-d24b-15e18b4423a4"
      },
      "outputs": [
        {
          "output_type": "stream",
          "name": "stdout",
          "text": [
            "Python\n"
          ]
        }
      ],
      "source": [
        "code = \"Python\"\n",
        "print(code)"
      ]
    },
    {
      "cell_type": "markdown",
      "id": "7c5a89d6",
      "metadata": {
        "id": "7c5a89d6"
      },
      "source": [
        "12. Calculate the remainder when 22 is divided by 5."
      ]
    },
    {
      "cell_type": "code",
      "execution_count": null,
      "id": "db0b5ac5",
      "metadata": {
        "id": "db0b5ac5",
        "colab": {
          "base_uri": "https://localhost:8080/"
        },
        "outputId": "81a3971f-0a4b-40b6-9c75-ab25097a785a"
      },
      "outputs": [
        {
          "output_type": "stream",
          "name": "stdout",
          "text": [
            "2\n"
          ]
        }
      ],
      "source": [
        "rem = 22 % 5\n",
        "print(rem)"
      ]
    },
    {
      "cell_type": "markdown",
      "id": "6dbc6d95",
      "metadata": {
        "id": "6dbc6d95"
      },
      "source": [
        "\n",
        "13. Ask the user for two numbers, add them together, and display the sum."
      ]
    },
    {
      "cell_type": "code",
      "execution_count": null,
      "id": "8fa878a0",
      "metadata": {
        "id": "8fa878a0",
        "colab": {
          "base_uri": "https://localhost:8080/"
        },
        "outputId": "294f8383-0d50-4563-ed89-e11340762af4"
      },
      "outputs": [
        {
          "output_type": "stream",
          "name": "stdout",
          "text": [
            "Enter a number: 3\n",
            "Enter a second number: 4\n",
            "7\n"
          ]
        }
      ],
      "source": [
        "firstnum = int(input(\"Enter a number: \"))\n",
        "secondnum = int(input(\"Enter a second number: \"))\n",
        "sum = firstnum + secondnum\n",
        "print(sum)"
      ]
    },
    {
      "cell_type": "markdown",
      "source": [
        "14. Write a Python code snippet that takes user input and prints the type of the input variable."
      ],
      "metadata": {
        "id": "Xfr-7PXNAsTJ"
      },
      "id": "Xfr-7PXNAsTJ"
    },
    {
      "cell_type": "code",
      "source": [
        "user_input = float(input(\"Enter a float: \"))\n",
        "type(user_input)"
      ],
      "metadata": {
        "id": "rM_ZHEpoAsdh",
        "colab": {
          "base_uri": "https://localhost:8080/"
        },
        "outputId": "d181bc83-b27d-4895-8d7f-3e0da564b122"
      },
      "id": "rM_ZHEpoAsdh",
      "execution_count": null,
      "outputs": [
        {
          "name": "stdout",
          "output_type": "stream",
          "text": [
            "Enter a float: 25.4\n"
          ]
        },
        {
          "output_type": "execute_result",
          "data": {
            "text/plain": [
              "float"
            ]
          },
          "metadata": {},
          "execution_count": 7
        }
      ]
    },
    {
      "cell_type": "markdown",
      "id": "a5d705bf",
      "metadata": {
        "id": "a5d705bf"
      },
      "source": [
        "15. Calculate the product of 8 and 12, then subtract 4 and display the result."
      ]
    },
    {
      "cell_type": "code",
      "execution_count": null,
      "id": "18b337a3",
      "metadata": {
        "id": "18b337a3",
        "colab": {
          "base_uri": "https://localhost:8080/"
        },
        "outputId": "c90eb7fd-cfff-42dc-d5a8-82f6f18e61b2"
      },
      "outputs": [
        {
          "output_type": "stream",
          "name": "stdout",
          "text": [
            "92\n"
          ]
        }
      ],
      "source": [
        "calc = (8 * 12) - 4\n",
        "print(calc)"
      ]
    },
    {
      "cell_type": "markdown",
      "id": "672bab76",
      "metadata": {
        "id": "672bab76"
      },
      "source": [
        "16. Explain the difference between `==` and `=` in Python."
      ]
    },
    {
      "cell_type": "code",
      "source": [
        "### Examples\n",
        "2 == 2"
      ],
      "metadata": {
        "id": "fOf-_TJuyqN9",
        "colab": {
          "base_uri": "https://localhost:8080/"
        },
        "outputId": "6a00b760-0396-41d6-ce43-9650f9f43608"
      },
      "id": "fOf-_TJuyqN9",
      "execution_count": null,
      "outputs": [
        {
          "output_type": "execute_result",
          "data": {
            "text/plain": [
              "True"
            ]
          },
          "metadata": {},
          "execution_count": 7
        }
      ]
    },
    {
      "cell_type": "code",
      "source": [
        "one = 1\n",
        "print(one)"
      ],
      "metadata": {
        "colab": {
          "base_uri": "https://localhost:8080/"
        },
        "id": "ZpVUn0Gn-2iv",
        "outputId": "383a7ba1-2a9d-47d9-99bf-1c2e15fae910"
      },
      "id": "ZpVUn0Gn-2iv",
      "execution_count": null,
      "outputs": [
        {
          "output_type": "stream",
          "name": "stdout",
          "text": [
            "1\n"
          ]
        }
      ]
    },
    {
      "cell_type": "markdown",
      "source": [
        "== is a comparison between two variables that returns true or false.\n",
        "= assigns a variable to whatever follows the = sign."
      ],
      "metadata": {
        "id": "PcxXMTHN-O-_"
      },
      "id": "PcxXMTHN-O-_"
    },
    {
      "cell_type": "markdown",
      "id": "68b3a3ff",
      "metadata": {
        "id": "68b3a3ff"
      },
      "source": [
        "17. Use Python to find the floor division of 100 by 11."
      ]
    },
    {
      "cell_type": "code",
      "execution_count": null,
      "id": "ae879bf3",
      "metadata": {
        "id": "ae879bf3",
        "colab": {
          "base_uri": "https://localhost:8080/"
        },
        "outputId": "7a19ac04-8351-4d07-ccab-925134d66747"
      },
      "outputs": [
        {
          "output_type": "stream",
          "name": "stdout",
          "text": [
            "9\n"
          ]
        }
      ],
      "source": [
        "fdiv = 100 // 11\n",
        "print(fdiv)"
      ]
    },
    {
      "cell_type": "markdown",
      "id": "ffd04019",
      "metadata": {
        "id": "ffd04019"
      },
      "source": [
        "18. Ask the user for a number, then calculate the square of that number."
      ]
    },
    {
      "cell_type": "code",
      "execution_count": null,
      "id": "c616706b",
      "metadata": {
        "id": "c616706b",
        "colab": {
          "base_uri": "https://localhost:8080/"
        },
        "outputId": "0be8dee4-06fa-4ae1-f4f0-30b3ad914cfc"
      },
      "outputs": [
        {
          "output_type": "stream",
          "name": "stdout",
          "text": [
            "Type a number: 5\n",
            "The square root of your number is  25\n"
          ]
        }
      ],
      "source": [
        "user_in = int(input(\"Type a number: \"))\n",
        "square = user_in ** 2\n",
        "print(\"The square root of your number is \", square)"
      ]
    },
    {
      "cell_type": "markdown",
      "id": "b1d61384",
      "metadata": {
        "id": "b1d61384"
      },
      "source": [
        "19. What does the `%` operator do in Python? Provide an example."
      ]
    },
    {
      "cell_type": "code",
      "execution_count": null,
      "id": "c4d33464",
      "metadata": {
        "id": "c4d33464",
        "colab": {
          "base_uri": "https://localhost:8080/"
        },
        "outputId": "6940d5ea-811c-499e-91a7-82f3230cfe58"
      },
      "outputs": [
        {
          "output_type": "stream",
          "name": "stdout",
          "text": [
            "2\n"
          ]
        }
      ],
      "source": [
        "rem = 20 % 3\n",
        "print(rem)"
      ]
    },
    {
      "cell_type": "markdown",
      "source": [
        "The % operator takes the remainder of a division problem.\n",
        "Within the example, 3 can fit into 20 only 6 times. 6 times 3 is 18.\n",
        "Subtract 18 from 20 and you get the remainder of 2."
      ],
      "metadata": {
        "id": "BSr-zRGXrHnj"
      },
      "id": "BSr-zRGXrHnj"
    },
    {
      "cell_type": "markdown",
      "id": "ff3ed06e",
      "metadata": {
        "id": "ff3ed06e"
      },
      "source": [
        "20. Using variables, demonstrate how to calculate and print the area of a rectangle (length * width)."
      ]
    },
    {
      "cell_type": "code",
      "execution_count": null,
      "id": "692bbc9c",
      "metadata": {
        "id": "692bbc9c",
        "colab": {
          "base_uri": "https://localhost:8080/"
        },
        "outputId": "1e9cc338-cc5a-434c-e3f6-3f383622fc38"
      },
      "outputs": [
        {
          "output_type": "stream",
          "name": "stdout",
          "text": [
            "Enter the length of the rectangle: 2\n",
            "Enter the width of the rectangle: 4\n",
            "The area of the rectangle is:  8\n"
          ]
        }
      ],
      "source": [
        "length = int(input(\"Enter the length of the rectangle: \"))\n",
        "width = int(input(\"Enter the width of the rectangle: \"))\n",
        "area = length * width\n",
        "print(\"The area of the rectangle is: \", area)"
      ]
    }
  ],
  "metadata": {
    "colab": {
      "provenance": []
    },
    "language_info": {
      "name": "python"
    },
    "kernelspec": {
      "name": "python3",
      "display_name": "Python 3"
    }
  },
  "nbformat": 4,
  "nbformat_minor": 5
}